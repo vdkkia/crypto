{
 "cells": [
  {
   "cell_type": "markdown",
   "id": "military-gauge",
   "metadata": {},
   "source": [
    "## Preprocessing Google Trends data\n",
    "\n",
    "This is the process we carry out before inserting new data into our database.\n",
    "\n",
    "* The input data is received as a string with information about the batch (batch index) and the timeline data.\n",
    "* The output is normalized datapoints for each keyword in the batch to be inserted into db."
   ]
  },
  {
   "cell_type": "markdown",
   "id": "emerging-taylor",
   "metadata": {},
   "source": [
    "### Step 1: parsing the data to identify batch index and timeline data\n",
    "\n",
    "First let's have a look at the input string:"
   ]
  },
  {
   "cell_type": "code",
   "execution_count": 1,
   "id": "engaged-press",
   "metadata": {},
   "outputs": [
    {
     "name": "stdout",
     "output_type": "stream",
     "text": [
      "B0___\n"
     ]
    }
   ],
   "source": [
    "with open('./data/sample-plain-data.txt') as file:\n",
    "    content = file.read()\n",
    "    print(content[0:5])"
   ]
  },
  {
   "cell_type": "code",
   "execution_count": 2,
   "id": "raising-frequency",
   "metadata": {},
   "outputs": [
    {
     "data": {
      "text/plain": [
       "'B0___SEP___{\"default\":{\"timelineData\":[{\"time\":\"1615446420\",\"formattedTime\":\"Mar 11, 2021 at 7:07 AM\",\"formattedAxisTime\":\"7:07 AM\",\"value\":[0,0,25,0,0],\"hasData\":[false,false,true,false,false],\"formattedValue\":[\"0\",\"0\",\"25\",\"0\",\"0\"]},{\"time\":\"1615446480\",\"formattedTime\":\"Mar 11, 2021 at 7:08 AM\",\"formattedAxisTime\":\"7:08 AM\",\"value\":[0,0,12,0,0],\"hasData\":[false,false,true,false,false],\"formattedValue\":[\"0\",\"0\",\"12\",\"0\",\"0\"]},{\"time\":\"1615446540\",\"formattedTime\":\"Mar 11, 2021 at 7:09 AM\",\"forma'"
      ]
     },
     "execution_count": 2,
     "metadata": {},
     "output_type": "execute_result"
    }
   ],
   "source": [
    "content[0:500]"
   ]
  },
  {
   "cell_type": "markdown",
   "id": "supreme-respondent",
   "metadata": {},
   "source": [
    "We use the `___SEP___` string as a separator to separate batch info from timeline data.\n",
    "\n",
    "We use the `parser.parse_input_data` function to parse the data:"
   ]
  },
  {
   "cell_type": "code",
   "execution_count": 3,
   "id": "clean-greenhouse",
   "metadata": {},
   "outputs": [],
   "source": [
    "from packages.parser import parse_input_data\n",
    "input_data = parse_input_data(content)"
   ]
  },
  {
   "cell_type": "markdown",
   "id": "forty-nudist",
   "metadata": {},
   "source": [
    "Let's have a look at out input data:"
   ]
  },
  {
   "cell_type": "code",
   "execution_count": 4,
   "id": "sensitive-departure",
   "metadata": {},
   "outputs": [
    {
     "data": {
      "text/plain": [
       "0"
      ]
     },
     "execution_count": 4,
     "metadata": {},
     "output_type": "execute_result"
    }
   ],
   "source": [
    "input_data['batch_index']"
   ]
  },
  {
   "cell_type": "markdown",
   "id": "eastern-rolling",
   "metadata": {},
   "source": [
    "We can use this index to find the keywords in this batch."
   ]
  },
  {
   "cell_type": "code",
   "execution_count": 5,
   "id": "fantastic-saver",
   "metadata": {},
   "outputs": [
    {
     "data": {
      "text/plain": [
       "[0, 0, 30, 1, 1]"
      ]
     },
     "execution_count": 5,
     "metadata": {},
     "output_type": "execute_result"
    }
   ],
   "source": [
    "input_data['averages']"
   ]
  },
  {
   "cell_type": "markdown",
   "id": "supposed-belgium",
   "metadata": {},
   "source": [
    "This are the average Google search values for each keyword in the batch. The values are related to the maximum in this time window."
   ]
  },
  {
   "cell_type": "code",
   "execution_count": 6,
   "id": "extraordinary-usage",
   "metadata": {},
   "outputs": [
    {
     "data": {
      "text/plain": [
       "240"
      ]
     },
     "execution_count": 6,
     "metadata": {},
     "output_type": "execute_result"
    }
   ],
   "source": [
    "len(input_data['timeline'])"
   ]
  },
  {
   "cell_type": "code",
   "execution_count": 7,
   "id": "german-simon",
   "metadata": {},
   "outputs": [
    {
     "data": {
      "text/plain": [
       "{'time': '1615446420',\n",
       " 'formattedTime': 'Mar 11, 2021 at 7:07 AM',\n",
       " 'formattedAxisTime': '7:07 AM',\n",
       " 'value': [0, 0, 25, 0, 0],\n",
       " 'hasData': [False, False, True, False, False],\n",
       " 'formattedValue': ['0', '0', '25', '0', '0']}"
      ]
     },
     "execution_count": 7,
     "metadata": {},
     "output_type": "execute_result"
    }
   ],
   "source": [
    "input_data['timeline'][0]"
   ]
  },
  {
   "cell_type": "markdown",
   "id": "inside-tactics",
   "metadata": {},
   "source": [
    "The `timeline` property includes the actual values of the timeseries."
   ]
  },
  {
   "cell_type": "markdown",
   "id": "regional-criticism",
   "metadata": {},
   "source": [
    "### Step 2: converting the data to Pandas DataFrame\n",
    "\n",
    "To process the data, we first convert it to Pandas DataFrames. We use our `parser.convert_to_dataframe` method to do this. But first let's load our batches from redis. We use the `batches.load_batches_info` function to do so:"
   ]
  },
  {
   "cell_type": "code",
   "execution_count": 8,
   "id": "permanent-footage",
   "metadata": {},
   "outputs": [
    {
     "data": {
      "text/plain": [
       "True"
      ]
     },
     "execution_count": 8,
     "metadata": {},
     "output_type": "execute_result"
    }
   ],
   "source": [
    "import redis\n",
    "import os\n",
    "from dotenv import load_dotenv\n",
    "from packages.batches import load_batches_info\n",
    "\n",
    "load_dotenv(dotenv_path='.env.notebooks')"
   ]
  },
  {
   "cell_type": "code",
   "execution_count": 9,
   "id": "pending-entrepreneur",
   "metadata": {},
   "outputs": [],
   "source": [
    "REDIS_URI = os.environ.get('REDIS_URI')"
   ]
  },
  {
   "cell_type": "code",
   "execution_count": 10,
   "id": "expected-acquisition",
   "metadata": {},
   "outputs": [],
   "source": [
    "batches_info = load_batches_info(REDIS_URI)"
   ]
  },
  {
   "cell_type": "code",
   "execution_count": 11,
   "id": "technological-presentation",
   "metadata": {},
   "outputs": [
    {
     "data": {
      "text/plain": [
       "dict_keys(['batches', 'categoryMap'])"
      ]
     },
     "execution_count": 11,
     "metadata": {},
     "output_type": "execute_result"
    }
   ],
   "source": [
    "batches_info.keys()"
   ]
  },
  {
   "cell_type": "markdown",
   "id": "matched-subscriber",
   "metadata": {},
   "source": [
    "We have the following information about each batch:"
   ]
  },
  {
   "cell_type": "code",
   "execution_count": 12,
   "id": "horizontal-school",
   "metadata": {},
   "outputs": [],
   "source": [
    "sample_batch = batches_info['batches'][0]"
   ]
  },
  {
   "cell_type": "code",
   "execution_count": 13,
   "id": "italian-jurisdiction",
   "metadata": {},
   "outputs": [
    {
     "data": {
      "text/plain": [
       "[{'term': '\"Basis Cash\"', 'category': '100-600'},\n",
       " {'term': '0chain', 'category': '100-600'},\n",
       " {'term': '1inch', 'category': '100-600'},\n",
       " {'term': '1INCH coin', 'category': '100-600'},\n",
       " {'term': '88mph', 'category': '100-600'}]"
      ]
     },
     "execution_count": 13,
     "metadata": {},
     "output_type": "execute_result"
    }
   ],
   "source": [
    "sample_batch"
   ]
  },
  {
   "cell_type": "markdown",
   "id": "virtual-actor",
   "metadata": {},
   "source": [
    "We also have the category to which each keyword belongs:"
   ]
  },
  {
   "cell_type": "code",
   "execution_count": 14,
   "id": "automotive-incident",
   "metadata": {},
   "outputs": [
    {
     "data": {
      "text/plain": [
       "'100-600'"
      ]
     },
     "execution_count": 14,
     "metadata": {},
     "output_type": "execute_result"
    }
   ],
   "source": [
    "batches_info['categoryMap'][sample_batch[0]['term']]"
   ]
  },
  {
   "cell_type": "markdown",
   "id": "serious-reward",
   "metadata": {},
   "source": [
    "Now we can convert our input data to Pandas DataFrame for further processing:"
   ]
  },
  {
   "cell_type": "code",
   "execution_count": 15,
   "id": "improved-graph",
   "metadata": {},
   "outputs": [],
   "source": [
    "from packages.parser import convert_to_dataframe"
   ]
  },
  {
   "cell_type": "code",
   "execution_count": 16,
   "id": "hidden-webcam",
   "metadata": {},
   "outputs": [
    {
     "data": {
      "text/html": [
       "<div>\n",
       "<style scoped>\n",
       "    .dataframe tbody tr th:only-of-type {\n",
       "        vertical-align: middle;\n",
       "    }\n",
       "\n",
       "    .dataframe tbody tr th {\n",
       "        vertical-align: top;\n",
       "    }\n",
       "\n",
       "    .dataframe thead th {\n",
       "        text-align: right;\n",
       "    }\n",
       "</style>\n",
       "<table border=\"1\" class=\"dataframe\">\n",
       "  <thead>\n",
       "    <tr style=\"text-align: right;\">\n",
       "      <th></th>\n",
       "      <th>\"Basis Cash\"</th>\n",
       "      <th>0chain</th>\n",
       "      <th>1inch</th>\n",
       "      <th>1INCH coin</th>\n",
       "      <th>88mph</th>\n",
       "      <th>formattedValues</th>\n",
       "      <th>hasData</th>\n",
       "      <th>formattedTime</th>\n",
       "      <th>formattedAxisTime</th>\n",
       "      <th>time</th>\n",
       "    </tr>\n",
       "    <tr>\n",
       "      <th>timestamp</th>\n",
       "      <th></th>\n",
       "      <th></th>\n",
       "      <th></th>\n",
       "      <th></th>\n",
       "      <th></th>\n",
       "      <th></th>\n",
       "      <th></th>\n",
       "      <th></th>\n",
       "      <th></th>\n",
       "      <th></th>\n",
       "    </tr>\n",
       "  </thead>\n",
       "  <tbody>\n",
       "    <tr>\n",
       "      <th>2021-03-11 07:07:00</th>\n",
       "      <td>0</td>\n",
       "      <td>0</td>\n",
       "      <td>25</td>\n",
       "      <td>0</td>\n",
       "      <td>0</td>\n",
       "      <td>0-0-25-0-0</td>\n",
       "      <td>N-N-Y-N-N</td>\n",
       "      <td>Mar 11, 2021 at 7:07 AM</td>\n",
       "      <td>7:07 AM</td>\n",
       "      <td>1615446420</td>\n",
       "    </tr>\n",
       "    <tr>\n",
       "      <th>2021-03-11 07:08:00</th>\n",
       "      <td>0</td>\n",
       "      <td>0</td>\n",
       "      <td>12</td>\n",
       "      <td>0</td>\n",
       "      <td>0</td>\n",
       "      <td>0-0-12-0-0</td>\n",
       "      <td>N-N-Y-N-N</td>\n",
       "      <td>Mar 11, 2021 at 7:08 AM</td>\n",
       "      <td>7:08 AM</td>\n",
       "      <td>1615446480</td>\n",
       "    </tr>\n",
       "    <tr>\n",
       "      <th>2021-03-11 07:09:00</th>\n",
       "      <td>0</td>\n",
       "      <td>0</td>\n",
       "      <td>50</td>\n",
       "      <td>0</td>\n",
       "      <td>0</td>\n",
       "      <td>0-0-50-0-0</td>\n",
       "      <td>N-N-Y-N-N</td>\n",
       "      <td>Mar 11, 2021 at 7:09 AM</td>\n",
       "      <td>7:09 AM</td>\n",
       "      <td>1615446540</td>\n",
       "    </tr>\n",
       "    <tr>\n",
       "      <th>2021-03-11 07:10:00</th>\n",
       "      <td>0</td>\n",
       "      <td>0</td>\n",
       "      <td>12</td>\n",
       "      <td>0</td>\n",
       "      <td>0</td>\n",
       "      <td>0-0-12-0-0</td>\n",
       "      <td>N-N-Y-N-N</td>\n",
       "      <td>Mar 11, 2021 at 7:10 AM</td>\n",
       "      <td>7:10 AM</td>\n",
       "      <td>1615446600</td>\n",
       "    </tr>\n",
       "    <tr>\n",
       "      <th>2021-03-11 07:11:00</th>\n",
       "      <td>0</td>\n",
       "      <td>0</td>\n",
       "      <td>36</td>\n",
       "      <td>0</td>\n",
       "      <td>0</td>\n",
       "      <td>0-0-36-0-0</td>\n",
       "      <td>N-N-Y-N-N</td>\n",
       "      <td>Mar 11, 2021 at 7:11 AM</td>\n",
       "      <td>7:11 AM</td>\n",
       "      <td>1615446660</td>\n",
       "    </tr>\n",
       "  </tbody>\n",
       "</table>\n",
       "</div>"
      ],
      "text/plain": [
       "                     \"Basis Cash\"  0chain  1inch  1INCH coin  88mph  \\\n",
       "timestamp                                                             \n",
       "2021-03-11 07:07:00             0       0     25           0      0   \n",
       "2021-03-11 07:08:00             0       0     12           0      0   \n",
       "2021-03-11 07:09:00             0       0     50           0      0   \n",
       "2021-03-11 07:10:00             0       0     12           0      0   \n",
       "2021-03-11 07:11:00             0       0     36           0      0   \n",
       "\n",
       "                    formattedValues    hasData            formattedTime  \\\n",
       "timestamp                                                                 \n",
       "2021-03-11 07:07:00      0-0-25-0-0  N-N-Y-N-N  Mar 11, 2021 at 7:07 AM   \n",
       "2021-03-11 07:08:00      0-0-12-0-0  N-N-Y-N-N  Mar 11, 2021 at 7:08 AM   \n",
       "2021-03-11 07:09:00      0-0-50-0-0  N-N-Y-N-N  Mar 11, 2021 at 7:09 AM   \n",
       "2021-03-11 07:10:00      0-0-12-0-0  N-N-Y-N-N  Mar 11, 2021 at 7:10 AM   \n",
       "2021-03-11 07:11:00      0-0-36-0-0  N-N-Y-N-N  Mar 11, 2021 at 7:11 AM   \n",
       "\n",
       "                    formattedAxisTime        time  \n",
       "timestamp                                          \n",
       "2021-03-11 07:07:00           7:07 AM  1615446420  \n",
       "2021-03-11 07:08:00           7:08 AM  1615446480  \n",
       "2021-03-11 07:09:00           7:09 AM  1615446540  \n",
       "2021-03-11 07:10:00           7:10 AM  1615446600  \n",
       "2021-03-11 07:11:00           7:11 AM  1615446660  "
      ]
     },
     "execution_count": 16,
     "metadata": {},
     "output_type": "execute_result"
    }
   ],
   "source": [
    "df = convert_to_dataframe(input_data, batches_info['batches'])\n",
    "df.head()"
   ]
  },
  {
   "cell_type": "code",
   "execution_count": 17,
   "id": "overhead-patrol",
   "metadata": {},
   "outputs": [],
   "source": [
    "import matplotlib.pyplot as plt\n",
    "import seaborn as sns"
   ]
  },
  {
   "cell_type": "code",
   "execution_count": 18,
   "id": "bacterial-income",
   "metadata": {},
   "outputs": [
    {
     "data": {
      "text/plain": [
       "<AxesSubplot:xlabel='timestamp'>"
      ]
     },
     "execution_count": 18,
     "metadata": {},
     "output_type": "execute_result"
    },
    {
     "data": {
      "image/png": "[encoded data removed]",
      "text/plain": [
       "<Figure size 1152x576 with 1 Axes>"
      ]
     },
     "metadata": {},
     "output_type": "display_data"
    }
   ],
   "source": [
    "sns.set(rc={'figure.figsize':(16, 8)})\n",
    "df.plot(linewidth=1)"
   ]
  },
  {
   "cell_type": "code",
   "execution_count": 21,
   "id": "compliant-adams",
   "metadata": {},
   "outputs": [
    {
     "data": {
      "text/html": [
       "<div>\n",
       "<style scoped>\n",
       "    .dataframe tbody tr th:only-of-type {\n",
       "        vertical-align: middle;\n",
       "    }\n",
       "\n",
       "    .dataframe tbody tr th {\n",
       "        vertical-align: top;\n",
       "    }\n",
       "\n",
       "    .dataframe thead th {\n",
       "        text-align: right;\n",
       "    }\n",
       "</style>\n",
       "<table border=\"1\" class=\"dataframe\">\n",
       "  <thead>\n",
       "    <tr style=\"text-align: right;\">\n",
       "      <th></th>\n",
       "      <th>\"Basis Cash\"</th>\n",
       "      <th>0chain</th>\n",
       "      <th>1inch</th>\n",
       "      <th>1INCH coin</th>\n",
       "      <th>88mph</th>\n",
       "      <th>formattedValues</th>\n",
       "      <th>hasData</th>\n",
       "      <th>formattedTime</th>\n",
       "      <th>formattedAxisTime</th>\n",
       "      <th>time</th>\n",
       "    </tr>\n",
       "    <tr>\n",
       "      <th>timestamp</th>\n",
       "      <th></th>\n",
       "      <th></th>\n",
       "      <th></th>\n",
       "      <th></th>\n",
       "      <th></th>\n",
       "      <th></th>\n",
       "      <th></th>\n",
       "      <th></th>\n",
       "      <th></th>\n",
       "      <th></th>\n",
       "    </tr>\n",
       "  </thead>\n",
       "  <tbody>\n",
       "    <tr>\n",
       "      <th>2021-03-11 07:07:00</th>\n",
       "      <td>0</td>\n",
       "      <td>0</td>\n",
       "      <td>25</td>\n",
       "      <td>0</td>\n",
       "      <td>0</td>\n",
       "      <td>0-0-25-0-0</td>\n",
       "      <td>N-N-Y-N-N</td>\n",
       "      <td>Mar 11, 2021 at 7:07 AM</td>\n",
       "      <td>7:07 AM</td>\n",
       "      <td>1615446420</td>\n",
       "    </tr>\n",
       "    <tr>\n",
       "      <th>2021-03-11 07:08:00</th>\n",
       "      <td>0</td>\n",
       "      <td>0</td>\n",
       "      <td>12</td>\n",
       "      <td>0</td>\n",
       "      <td>0</td>\n",
       "      <td>0-0-12-0-0</td>\n",
       "      <td>N-N-Y-N-N</td>\n",
       "      <td>Mar 11, 2021 at 7:08 AM</td>\n",
       "      <td>7:08 AM</td>\n",
       "      <td>1615446480</td>\n",
       "    </tr>\n",
       "    <tr>\n",
       "      <th>2021-03-11 07:09:00</th>\n",
       "      <td>0</td>\n",
       "      <td>0</td>\n",
       "      <td>50</td>\n",
       "      <td>0</td>\n",
       "      <td>0</td>\n",
       "      <td>0-0-50-0-0</td>\n",
       "      <td>N-N-Y-N-N</td>\n",
       "      <td>Mar 11, 2021 at 7:09 AM</td>\n",
       "      <td>7:09 AM</td>\n",
       "      <td>1615446540</td>\n",
       "    </tr>\n",
       "    <tr>\n",
       "      <th>2021-03-11 07:10:00</th>\n",
       "      <td>0</td>\n",
       "      <td>0</td>\n",
       "      <td>12</td>\n",
       "      <td>0</td>\n",
       "      <td>0</td>\n",
       "      <td>0-0-12-0-0</td>\n",
       "      <td>N-N-Y-N-N</td>\n",
       "      <td>Mar 11, 2021 at 7:10 AM</td>\n",
       "      <td>7:10 AM</td>\n",
       "      <td>1615446600</td>\n",
       "    </tr>\n",
       "    <tr>\n",
       "      <th>2021-03-11 07:11:00</th>\n",
       "      <td>0</td>\n",
       "      <td>0</td>\n",
       "      <td>36</td>\n",
       "      <td>0</td>\n",
       "      <td>0</td>\n",
       "      <td>0-0-36-0-0</td>\n",
       "      <td>N-N-Y-N-N</td>\n",
       "      <td>Mar 11, 2021 at 7:11 AM</td>\n",
       "      <td>7:11 AM</td>\n",
       "      <td>1615446660</td>\n",
       "    </tr>\n",
       "    <tr>\n",
       "      <th>...</th>\n",
       "      <td>...</td>\n",
       "      <td>...</td>\n",
       "      <td>...</td>\n",
       "      <td>...</td>\n",
       "      <td>...</td>\n",
       "      <td>...</td>\n",
       "      <td>...</td>\n",
       "      <td>...</td>\n",
       "      <td>...</td>\n",
       "      <td>...</td>\n",
       "    </tr>\n",
       "    <tr>\n",
       "      <th>2021-03-11 11:02:00</th>\n",
       "      <td>0</td>\n",
       "      <td>0</td>\n",
       "      <td>34</td>\n",
       "      <td>8</td>\n",
       "      <td>0</td>\n",
       "      <td>0-0-34-8-0</td>\n",
       "      <td>N-N-Y-Y-N</td>\n",
       "      <td>Mar 11, 2021 at 11:02 AM</td>\n",
       "      <td>11:02 AM</td>\n",
       "      <td>1615460520</td>\n",
       "    </tr>\n",
       "    <tr>\n",
       "      <th>2021-03-11 11:03:00</th>\n",
       "      <td>0</td>\n",
       "      <td>0</td>\n",
       "      <td>49</td>\n",
       "      <td>0</td>\n",
       "      <td>0</td>\n",
       "      <td>0-0-49-0-0</td>\n",
       "      <td>N-N-Y-N-N</td>\n",
       "      <td>Mar 11, 2021 at 11:03 AM</td>\n",
       "      <td>11:03 AM</td>\n",
       "      <td>1615460580</td>\n",
       "    </tr>\n",
       "    <tr>\n",
       "      <th>2021-03-11 11:04:00</th>\n",
       "      <td>0</td>\n",
       "      <td>0</td>\n",
       "      <td>31</td>\n",
       "      <td>0</td>\n",
       "      <td>0</td>\n",
       "      <td>0-0-31-0-0</td>\n",
       "      <td>N-N-Y-N-N</td>\n",
       "      <td>Mar 11, 2021 at 11:04 AM</td>\n",
       "      <td>11:04 AM</td>\n",
       "      <td>1615460640</td>\n",
       "    </tr>\n",
       "    <tr>\n",
       "      <th>2021-03-11 11:05:00</th>\n",
       "      <td>0</td>\n",
       "      <td>0</td>\n",
       "      <td>22</td>\n",
       "      <td>0</td>\n",
       "      <td>0</td>\n",
       "      <td>0-0-22-0-0</td>\n",
       "      <td>N-N-Y-N-N</td>\n",
       "      <td>Mar 11, 2021 at 11:05 AM</td>\n",
       "      <td>11:05 AM</td>\n",
       "      <td>1615460700</td>\n",
       "    </tr>\n",
       "    <tr>\n",
       "      <th>2021-03-11 11:06:00</th>\n",
       "      <td>0</td>\n",
       "      <td>0</td>\n",
       "      <td>26</td>\n",
       "      <td>0</td>\n",
       "      <td>0</td>\n",
       "      <td>0-0-26-0-0</td>\n",
       "      <td>N-N-Y-N-N</td>\n",
       "      <td>Mar 11, 2021 at 11:06 AM</td>\n",
       "      <td>11:06 AM</td>\n",
       "      <td>1615460760</td>\n",
       "    </tr>\n",
       "  </tbody>\n",
       "</table>\n",
       "<p>240 rows × 10 columns</p>\n",
       "</div>"
      ],
      "text/plain": [
       "                     \"Basis Cash\"  0chain  1inch  1INCH coin  88mph  \\\n",
       "timestamp                                                             \n",
       "2021-03-11 07:07:00             0       0     25           0      0   \n",
       "2021-03-11 07:08:00             0       0     12           0      0   \n",
       "2021-03-11 07:09:00             0       0     50           0      0   \n",
       "2021-03-11 07:10:00             0       0     12           0      0   \n",
       "2021-03-11 07:11:00             0       0     36           0      0   \n",
       "...                           ...     ...    ...         ...    ...   \n",
       "2021-03-11 11:02:00             0       0     34           8      0   \n",
       "2021-03-11 11:03:00             0       0     49           0      0   \n",
       "2021-03-11 11:04:00             0       0     31           0      0   \n",
       "2021-03-11 11:05:00             0       0     22           0      0   \n",
       "2021-03-11 11:06:00             0       0     26           0      0   \n",
       "\n",
       "                    formattedValues    hasData             formattedTime  \\\n",
       "timestamp                                                                  \n",
       "2021-03-11 07:07:00      0-0-25-0-0  N-N-Y-N-N   Mar 11, 2021 at 7:07 AM   \n",
       "2021-03-11 07:08:00      0-0-12-0-0  N-N-Y-N-N   Mar 11, 2021 at 7:08 AM   \n",
       "2021-03-11 07:09:00      0-0-50-0-0  N-N-Y-N-N   Mar 11, 2021 at 7:09 AM   \n",
       "2021-03-11 07:10:00      0-0-12-0-0  N-N-Y-N-N   Mar 11, 2021 at 7:10 AM   \n",
       "2021-03-11 07:11:00      0-0-36-0-0  N-N-Y-N-N   Mar 11, 2021 at 7:11 AM   \n",
       "...                             ...        ...                       ...   \n",
       "2021-03-11 11:02:00      0-0-34-8-0  N-N-Y-Y-N  Mar 11, 2021 at 11:02 AM   \n",
       "2021-03-11 11:03:00      0-0-49-0-0  N-N-Y-N-N  Mar 11, 2021 at 11:03 AM   \n",
       "2021-03-11 11:04:00      0-0-31-0-0  N-N-Y-N-N  Mar 11, 2021 at 11:04 AM   \n",
       "2021-03-11 11:05:00      0-0-22-0-0  N-N-Y-N-N  Mar 11, 2021 at 11:05 AM   \n",
       "2021-03-11 11:06:00      0-0-26-0-0  N-N-Y-N-N  Mar 11, 2021 at 11:06 AM   \n",
       "\n",
       "                    formattedAxisTime        time  \n",
       "timestamp                                          \n",
       "2021-03-11 07:07:00           7:07 AM  1615446420  \n",
       "2021-03-11 07:08:00           7:08 AM  1615446480  \n",
       "2021-03-11 07:09:00           7:09 AM  1615446540  \n",
       "2021-03-11 07:10:00           7:10 AM  1615446600  \n",
       "2021-03-11 07:11:00           7:11 AM  1615446660  \n",
       "...                               ...         ...  \n",
       "2021-03-11 11:02:00          11:02 AM  1615460520  \n",
       "2021-03-11 11:03:00          11:03 AM  1615460580  \n",
       "2021-03-11 11:04:00          11:04 AM  1615460640  \n",
       "2021-03-11 11:05:00          11:05 AM  1615460700  \n",
       "2021-03-11 11:06:00          11:06 AM  1615460760  \n",
       "\n",
       "[240 rows x 10 columns]"
      ]
     },
     "execution_count": 21,
     "metadata": {},
     "output_type": "execute_result"
    }
   ],
   "source": [
    "df"
   ]
  },
  {
   "cell_type": "code",
   "execution_count": 27,
   "id": "animal-injection",
   "metadata": {},
   "outputs": [
    {
     "data": {
      "text/plain": [
       "\"Basis Cash\"                               0\n",
       "0chain                                     0\n",
       "1inch                                     25\n",
       "1INCH coin                                 0\n",
       "88mph                                      0\n",
       "formattedValues                   0-0-25-0-0\n",
       "hasData                            N-N-Y-N-N\n",
       "formattedTime        Mar 11, 2021 at 7:07 AM\n",
       "formattedAxisTime                    7:07 AM\n",
       "time                              1615446420\n",
       "Name: 2021-03-11 07:07:00, dtype: object"
      ]
     },
     "execution_count": 27,
     "metadata": {},
     "output_type": "execute_result"
    }
   ],
   "source": [
    "df.iloc[0]"
   ]
  },
  {
   "cell_type": "code",
   "execution_count": 34,
   "id": "authentic-somalia",
   "metadata": {},
   "outputs": [
    {
     "data": {
      "text/plain": [
       "timestamp\n",
       "2021-03-11 07:07:00    0\n",
       "2021-03-11 07:08:00    0\n",
       "2021-03-11 07:09:00    0\n",
       "2021-03-11 07:10:00    0\n",
       "2021-03-11 07:11:00    0\n",
       "                      ..\n",
       "2021-03-11 11:02:00    0\n",
       "2021-03-11 11:03:00    0\n",
       "2021-03-11 11:04:00    0\n",
       "2021-03-11 11:05:00    0\n",
       "2021-03-11 11:06:00    0\n",
       "Name: \"Basis Cash\", Length: 240, dtype: int64"
      ]
     },
     "execution_count": 34,
     "metadata": {},
     "output_type": "execute_result"
    }
   ],
   "source": [
    "df['\"Basis Cash\"']"
   ]
  },
  {
   "cell_type": "code",
   "execution_count": null,
   "id": "proper-estate",
   "metadata": {},
   "outputs": [],
   "source": []
  }
 ],
 "metadata": {
  "kernelspec": {
   "display_name": "Python 3",
   "language": "python",
   "name": "python3"
  },
  "language_info": {
   "codemirror_mode": {
    "name": "ipython",
    "version": 3
   },
   "file_extension": ".py",
   "mimetype": "text/x-python",
   "name": "python",
   "nbconvert_exporter": "python",
   "pygments_lexer": "ipython3",
   "version": "3.8.8"
  }
 },
 "nbformat": 4,
 "nbformat_minor": 5
}
